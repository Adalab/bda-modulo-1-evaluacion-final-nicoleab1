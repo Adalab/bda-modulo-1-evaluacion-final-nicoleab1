{
 "cells": [
  {
   "cell_type": "code",
   "execution_count": 2,
   "metadata": {},
   "outputs": [],
   "source": [
    "# Creamos class TiendaOnline:\n",
    "\n",
    "class TiendaOnline:\n",
    "    def __init__(self):\n",
    "        \n",
    "        #Un atributo para almacenar los productos en el inventario. Cada producto debe ser representado como un diccionario con las siguientes claves:\n",
    "        #'nombre' , 'precio' , y 'cantidad' . Al principio deberá ser un lista vacía\n",
    "        self.inventario = []\n",
    "\n",
    "        #para llevar registro de clientes. Cada cliente debe ser representado como un diccionario con las siguientes claves: 'nombre' y 'email' . Al inicio deberá ser un diccionario vacío. Además, cada cliente debe tener un historial de compras. {'Cliente1': {'email': 'cliente1@email.com', 'compras': []}, 'Cliente2': {'email': 'cliente2@email.com', 'compras': []}}\n",
    "        self.clientes = {}\n",
    "        #registro de ventas. inicia con 0. es un float.\n",
    "        self.ventas_totales = float(0)\n",
    "\n",
    "    def agregar_producto(self, nombre, precio, cantidad):\n",
    "        #Antes de empezar a buscar en el inventario, asumimos que el producto no existe.\n",
    "        producto_existente = False\n",
    "        \n",
    "        for producto in self.inventario:\n",
    "            if producto[\"nombre\"] == nombre:\n",
    "                producto[\"cantidad\"] += cantidad\n",
    "                print(\"Este producto ya existe en nuestra base de datos\")\n",
    "                #aqui si se ha encontrado un producto ya existente, vamos a modificar la cantidad, imprimir el mensaje, y cambiar el estado del producto para indicar que si está en el inventario\n",
    "                producto_existente = True\n",
    "                #salimos\n",
    "                break\n",
    "            #En este punto, si encuentra algun producto_existente que es igual a false, significa que no lo encontró y que hay que agregarlo. \n",
    "        if producto_existente == False:\n",
    "                #creamos un nuevo diccionario con la info\n",
    "                nuevo_producto = {\"nombre\": nombre, \"precio\": precio, \"cantidad\": cantidad}\n",
    "                #lo agregamos al inventario\n",
    "                self.inventario.append(nuevo_producto)\n",
    "                       \n",
    "                return self.inventario\n",
    "\n",
    "    def ver_inventario(self):\n",
    "        for producto in self.inventario:\n",
    "            print(f\"Nombre: {producto['nombre']}, Precio:$ {producto['precio']}, Cantidad: {producto['cantidad']}\")\n",
    "            #Usamos comillas simples porque si no da error, confunde el uso de las comillas dobles\n",
    "\n",
    "    def buscar_producto(self, nombre): \n",
    "        for producto in self.inventario:\n",
    "            if producto[\"nombre\"] == (nombre):\n",
    "                print(f\"Nombre: {producto['nombre']}, Precio:$ {producto['precio']}, Cantidad: {producto['cantidad']}\")\n",
    "\n",
    "    def actualizar_stock(self, nombre, cantidad):\n",
    "        producto_existente = False\n",
    "        for producto in self.inventario:\n",
    "            if producto[\"nombre\"] == nombre:\n",
    "                producto[\"cantidad\"] += cantidad\n",
    "                producto_existente = True\n",
    "        if producto_existente == False:\n",
    "            print (f\"No existe el producto {nombre} en el inventario\")   \n",
    "\n",
    "\n",
    "    def eliminar_producto(self, nombre):\n",
    "        for producto in self.inventario:\n",
    "            if producto[\"nombre\"] == nombre:\n",
    "                self.inventario.remove(producto)\n",
    "                print(\"se eliminó el producto\", producto)\n",
    "                return\n",
    "            else:\n",
    "                print(f\"Producto {nombre} no se encuentra en el inventario\")\n",
    "\n",
    "\n",
    "    def calcular_valor_inventario(self):\n",
    "        valor_inventario = 0\n",
    "        for producto in self.inventario:\n",
    "            valor_inventario = valor_inventario + (float(producto[\"precio\"]) * float(producto[\"cantidad\"]))\n",
    "        print(f\"el valor total del inventario en este momento es de ${valor_inventario}\")\n",
    "\n",
    "\n",
    "    def realizar_compra(self):\n",
    "        carrito = {}\n",
    "        while True:\n",
    "            self.ver_inventario()\n",
    "            nombre_producto = input(\"ingrese el nombre del producto que desea adquirir, escriba 'listo' cuando haya terminado de elegir sus productos o presione 'esc' si desea abandonar el proceso\")\n",
    "            \n",
    "            if nombre_producto.lower() == \"listo\":\n",
    "                break\n",
    "        \n",
    "            cantidad_compra = int(input(\"ingrese la cantidad que desea adquirir\"))\n",
    "            for producto in self.inventario:\n",
    "                if producto[\"nombre\"].lower() == nombre_producto:\n",
    "                    if producto[\"cantidad\"] >= cantidad_compra:\n",
    "                        if nombre_producto in carrito:\n",
    "                            carrito[nombre_producto][\"cantidad\"] += cantidad_compra\n",
    "                            print(f\"La cantidad de {nombre_producto} seleccionada ha sido actualizada\")\n",
    "                        else:\n",
    "                        #forma de agregar elementos a un diccionario: diccionario[clave a añadir]=[valor a añadir]\n",
    "                            carrito[nombre_producto] = {\"precio unitario\": producto[\"precio\"], \"cantidad\": cantidad_compra}\n",
    "                            producto[\"cantidad\"] -= cantidad_compra\n",
    "                            print(f\"producto {nombre_producto} añadido al carrito\")\n",
    "                    else: \n",
    "                        print(\"No tenemos cantidad suficiente, por favor elige un monto menor\")\n",
    "                        break\n",
    "                       \n",
    "        else:\n",
    "            print(f\"Producto {nombre_producto} no se encuentra en el inventario\")\n",
    "\n",
    "\n",
    "        costo_total = 0\n",
    "        for elemento in carrito.values():\n",
    "            costo_total += elemento[\"precio unitario\"] * elemento[\"cantidad\"]\n",
    "          \n",
    "        print(f\"Tu carrito ha quedado asi: \\n{carrito}\")\n",
    "        print(f\"El importe de la compra asciende a ${costo_total}\")                                    \n",
    "\n",
    "\n",
    "\n",
    "        \n",
    "            \n",
    "\n",
    "\n",
    "\n",
    "\n",
    "    \n"
   ]
  },
  {
   "cell_type": "code",
   "execution_count": 20,
   "metadata": {},
   "outputs": [
    {
     "data": {
      "text/plain": [
       "[{'nombre': 'Camisa', 'precio': 20, 'cantidad': 50},\n",
       " {'nombre': 'Pantalon', 'precio': 30, 'cantidad': 30},\n",
       " {'nombre': 'Zapatos', 'precio': 50, 'cantidad': 40},\n",
       " {'nombre': 'Vestido', 'precio': 20, 'cantidad': 50}]"
      ]
     },
     "execution_count": 20,
     "metadata": {},
     "output_type": "execute_result"
    }
   ],
   "source": [
    "tienda_1 = TiendaOnline()\n",
    "\n",
    "tienda_1.agregar_producto(\"Camisa\", 20, 50)\n",
    "tienda_1.agregar_producto(\"Pantalon\", 30, 30)\n",
    "tienda_1.agregar_producto(\"Zapatos\", 50, 40)\n",
    "tienda_1.agregar_producto(\"Vestido\", 20, 50)\n",
    "\n"
   ]
  },
  {
   "cell_type": "code",
   "execution_count": 21,
   "metadata": {},
   "outputs": [
    {
     "data": {
      "text/plain": [
       "[{'nombre': 'Camisa', 'precio': 20, 'cantidad': 50},\n",
       " {'nombre': 'Pantalon', 'precio': 30, 'cantidad': 30},\n",
       " {'nombre': 'Zapatos', 'precio': 50, 'cantidad': 40},\n",
       " {'nombre': 'Vestido', 'precio': 20, 'cantidad': 50}]"
      ]
     },
     "execution_count": 21,
     "metadata": {},
     "output_type": "execute_result"
    }
   ],
   "source": [
    "tienda_1.inventario"
   ]
  },
  {
   "cell_type": "code",
   "execution_count": 5,
   "metadata": {},
   "outputs": [
    {
     "name": "stdout",
     "output_type": "stream",
     "text": [
      "Nombre: Camisa, Precio:$ 20, Cantidad: 50\n",
      "Nombre: Pantalon, Precio:$ 30, Cantidad: 30\n",
      "Nombre: Zapatos, Precio:$ 50, Cantidad: 40\n",
      "Nombre: Vestido, Precio:$ 20, Cantidad: 50\n"
     ]
    }
   ],
   "source": [
    "tienda_1.ver_inventario()"
   ]
  },
  {
   "cell_type": "code",
   "execution_count": 6,
   "metadata": {},
   "outputs": [
    {
     "name": "stdout",
     "output_type": "stream",
     "text": [
      "Nombre: Camisa, Precio:$ 20, Cantidad: 50\n"
     ]
    }
   ],
   "source": [
    "tienda_1.buscar_producto(\"Camisa\")"
   ]
  },
  {
   "cell_type": "code",
   "execution_count": 18,
   "metadata": {},
   "outputs": [],
   "source": [
    "tienda_1.actualizar_stock(\"Camisa\", 50)"
   ]
  },
  {
   "cell_type": "code",
   "execution_count": 19,
   "metadata": {},
   "outputs": [
    {
     "name": "stdout",
     "output_type": "stream",
     "text": [
      "Nombre: Camisa, Precio:$ 20, Cantidad: 100\n",
      "Nombre: Pantalon, Precio:$ 30, Cantidad: 80\n",
      "Nombre: Zapatos, Precio:$ 50, Cantidad: 40\n"
     ]
    }
   ],
   "source": [
    "tienda_1.ver_inventario()"
   ]
  },
  {
   "cell_type": "code",
   "execution_count": 9,
   "metadata": {},
   "outputs": [
    {
     "name": "stdout",
     "output_type": "stream",
     "text": [
      "No existe el producto saco en el inventario\n"
     ]
    }
   ],
   "source": [
    "tienda_1.actualizar_stock(\"saco\",20)"
   ]
  },
  {
   "cell_type": "code",
   "execution_count": 10,
   "metadata": {},
   "outputs": [
    {
     "name": "stdout",
     "output_type": "stream",
     "text": [
      "Nombre: Camisa, Precio:$ 20, Cantidad: 50\n",
      "Nombre: Pantalon, Precio:$ 30, Cantidad: 30\n",
      "Nombre: Zapatos, Precio:$ 50, Cantidad: 40\n",
      "Nombre: Vestido, Precio:$ 20, Cantidad: 50\n"
     ]
    }
   ],
   "source": [
    "tienda_1.ver_inventario()"
   ]
  },
  {
   "cell_type": "code",
   "execution_count": 27,
   "metadata": {},
   "outputs": [
    {
     "name": "stdout",
     "output_type": "stream",
     "text": [
      "Producto Vestido no se encuentra en el inventario\n"
     ]
    }
   ],
   "source": [
    "tienda_1.eliminar_producto(\"Vestido\")"
   ]
  },
  {
   "cell_type": "code",
   "execution_count": 12,
   "metadata": {},
   "outputs": [
    {
     "name": "stdout",
     "output_type": "stream",
     "text": [
      "Nombre: Camisa, Precio:$ 20, Cantidad: 50\n",
      "Nombre: Pantalon, Precio:$ 30, Cantidad: 30\n",
      "Nombre: Zapatos, Precio:$ 50, Cantidad: 40\n"
     ]
    }
   ],
   "source": [
    "tienda_1.ver_inventario()"
   ]
  },
  {
   "cell_type": "code",
   "execution_count": 28,
   "metadata": {},
   "outputs": [
    {
     "name": "stdout",
     "output_type": "stream",
     "text": [
      "el valor total del inventario en este momento es de $3900.0\n"
     ]
    }
   ],
   "source": [
    "tienda_1.calcular_valor_inventario()"
   ]
  },
  {
   "cell_type": "code",
   "execution_count": 14,
   "metadata": {},
   "outputs": [
    {
     "name": "stdout",
     "output_type": "stream",
     "text": [
      "Nombre: Camisa, Precio:$ 20, Cantidad: 50\n",
      "Nombre: Pantalon, Precio:$ 30, Cantidad: 30\n",
      "Nombre: Zapatos, Precio:$ 50, Cantidad: 40\n",
      "None\n"
     ]
    }
   ],
   "source": [
    "inventario_tienda_1 = tienda_1.ver_inventario()\n",
    "print(inventario_tienda_1)"
   ]
  },
  {
   "cell_type": "code",
   "execution_count": 29,
   "metadata": {},
   "outputs": [
    {
     "name": "stdout",
     "output_type": "stream",
     "text": [
      "Nombre: Camisa, Precio:$ 20, Cantidad: 50\n",
      "Nombre: Pantalon, Precio:$ 30, Cantidad: 30\n",
      "Nombre: Zapatos, Precio:$ 50, Cantidad: 40\n",
      "producto camisa añadido al carrito\n",
      "Nombre: Camisa, Precio:$ 20, Cantidad: 46\n",
      "Nombre: Pantalon, Precio:$ 30, Cantidad: 30\n",
      "Nombre: Zapatos, Precio:$ 50, Cantidad: 40\n",
      "producto pantalon añadido al carrito\n",
      "Nombre: Camisa, Precio:$ 20, Cantidad: 46\n",
      "Nombre: Pantalon, Precio:$ 30, Cantidad: 25\n",
      "Nombre: Zapatos, Precio:$ 50, Cantidad: 40\n",
      "Tu carrito ha quedado asi: \n",
      "{'camisa': {'precio unitario': 20, 'cantidad': 4}, 'pantalon': {'precio unitario': 30, 'cantidad': 5}}\n",
      "El importe de la compra asciende a $230\n"
     ]
    }
   ],
   "source": [
    "tienda_1.realizar_compra()\n"
   ]
  }
 ],
 "metadata": {
  "kernelspec": {
   "display_name": "Python 3",
   "language": "python",
   "name": "python3"
  },
  "language_info": {
   "codemirror_mode": {
    "name": "ipython",
    "version": 3
   },
   "file_extension": ".py",
   "mimetype": "text/x-python",
   "name": "python",
   "nbconvert_exporter": "python",
   "pygments_lexer": "ipython3",
   "version": "3.11.9"
  }
 },
 "nbformat": 4,
 "nbformat_minor": 2
}
